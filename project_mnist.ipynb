{
  "cells": [
    {
      "cell_type": "code",
      "execution_count": 1,
      "metadata": {
        "id": "amFVTrkO9okp"
      },
      "outputs": [],
      "source": [
        "import torch\n",
        "import torch.nn as nn\n",
        "import torch.nn.functional as F\n",
        "import torch.optim as optim\n",
        "from torchvision import datasets, transforms, models\n",
        "import matplotlib.pyplot as plt\n",
        "import time  # Import the time module for measuring execution time\n",
        "from datetime import datetime  # Import datetime for getting the current date and time\n",
        "import numpy as np\n",
        "from pathlib import Path\n",
        "import torchvision.utils as vutils\n",
        "import os"
      ]
    },
    {
      "cell_type": "code",
      "execution_count": 2,
      "metadata": {
        "id": "b8hh2qyE_mXR"
      },
      "outputs": [],
      "source": [
        "# Modular Code Structure and Configuration and Import them\n",
        "from train import train\n",
        "from evaluate import test\n",
        "from adv_test import adv_test\n",
        "from attack import fgsm_attack\n",
        "from defense import feature_squeeze, gaussian_blur"
      ]
    },
    {
      "cell_type": "code",
      "execution_count": 3,
      "metadata": {},
      "outputs": [],
      "source": [
        "# Avoid fragmentation by limiting segment size\n",
        "os.environ[\"PYTORCH_CUDA_ALLOC_CONF\"] = \"max_split_size_mb:128\"\n",
        "os.environ[\"PYTORCH_NO_CUDA_MEMORY_CACHING\"] = \"1\"\n",
        "os.environ[\"TORCH_USE_CUDA_DSA\"] = \"1\""
      ]
    },
    {
      "cell_type": "code",
      "execution_count": 4,
      "metadata": {
        "id": "LLGuzmgv8LKd"
      },
      "outputs": [],
      "source": [
        "# Hyperparameters\n",
        "num_epochs = 10\n",
        "learning_rate = 0.001\n",
        "batch_size = 128\n",
        "num_classes = 365\n",
        "\n",
        "# epsilon for FGSM\n",
        "epsilon = 8/255\n",
        "\n",
        "root = Path(\"/content/data\")"
      ]
    },
    {
      "cell_type": "code",
      "execution_count": 5,
      "metadata": {
        "id": "r2JfHosGRL-C"
      },
      "outputs": [],
      "source": [
        "def get_dataloader(dataset_name, batch_size):\n",
        "\n",
        "    train_dataset = datasets.MNIST(root=root, train=True, download=True, transform=transforms.ToTensor())\n",
        "    test_dataset = datasets.MNIST(root=root, train=False, download=True, transform=transforms.ToTensor())\n",
        "\n",
        "    train_loader = torch.utils.data.DataLoader(train_dataset, batch_size=batch_size, shuffle=True, num_workers=2, pin_memory=True)\n",
        "    test_loader   = torch.utils.data.DataLoader(test_dataset, batch_size=batch_size, shuffle=False, num_workers=2, pin_memory=True)\n",
        "\n",
        "    return train_loader, test_loader"
      ]
    },
    {
      "cell_type": "code",
      "execution_count": 6,
      "metadata": {
        "colab": {
          "base_uri": "https://localhost:8080/"
        },
        "id": "-M3pmVxU8jSU",
        "outputId": "939d73d2-f352-465e-b8e8-3b40db8af594"
      },
      "outputs": [
        {
          "name": "stdout",
          "output_type": "stream",
          "text": [
            "CUDA Available: True\n"
          ]
        }
      ],
      "source": [
        "use_cuda = True\n",
        "# Define what device we are using\n",
        "print(\"CUDA Available:\", torch.cuda.is_available())\n",
        "\n",
        "device = torch.device(\"cuda\" if torch.cuda.is_available() else \"cpu\")"
      ]
    },
    {
      "cell_type": "code",
      "execution_count": 7,
      "metadata": {
        "id": "enW-c7koQnGo"
      },
      "outputs": [],
      "source": [
        "dataset_name = 'MNIST'\n",
        "model_list = 'ResNet50'"
      ]
    },
    {
      "cell_type": "code",
      "execution_count": 8,
      "metadata": {
        "id": "hFRPtW9Rl_xZ"
      },
      "outputs": [],
      "source": [
        "train_acc_results = {}\n",
        "test_acc_results = {}\n",
        "adv_acc_results = {}\n",
        "feature_squeeze_test_acc_results = {}\n",
        "gaussian_blur_test_acc_results = {}"
      ]
    },
    {
      "cell_type": "code",
      "execution_count": 9,
      "metadata": {
        "colab": {
          "base_uri": "https://localhost:8080/",
          "height": 256
        },
        "id": "FXEUi4KTypmo",
        "outputId": "4f22c1f2-738f-4ac2-9d1c-f9ef7c5e20cf"
      },
      "outputs": [
        {
          "name": "stdout",
          "output_type": "stream",
          "text": [
            "images.shape = torch.Size([128, 1, 28, 28])\n",
            "labels.shape = torch.Size([128])\n"
          ]
        },
        {
          "data": {
            "image/png": "[encoded data removed]",
            "text/plain": [
              "<Figure size 800x300 with 1 Axes>"
            ]
          },
          "metadata": {},
          "output_type": "display_data"
        }
      ],
      "source": [
        "# Get train and test dataloader\n",
        "train_loader, test_loader = get_dataloader(dataset_name, batch_size)\n",
        "\n",
        "# Grab one batch\n",
        "images, labels = next(iter(test_loader))\n",
        "\n",
        "# Inspect shapes\n",
        "print(f\"images.shape = {images.shape}\")\n",
        "print(f\"labels.shape = {labels.shape}\")\n",
        "\n",
        "# Visualize the first 4 images with their class names\n",
        "grid = vutils.make_grid(images[:4], nrow=4, normalize=True)\n",
        "plt.figure(figsize=(8,3))\n",
        "plt.imshow(grid.permute(1,2,0))\n",
        "plt.title(f\"Sample Images from {dataset_name}\")\n",
        "plt.axis('off')\n",
        "plt.show()"
      ]
    },
    {
      "cell_type": "code",
      "execution_count": 10,
      "metadata": {
        "colab": {
          "base_uri": "https://localhost:8080/"
        },
        "id": "ipbluay5hgTc",
        "outputId": "67dfaa1d-b37e-4ccd-823d-06c577a1ffbb"
      },
      "outputs": [
        {
          "name": "stdout",
          "output_type": "stream",
          "text": [
            "==========================================\n",
            "Processing MNIST dataset...\n",
            "==========================================\n"
          ]
        },
        {
          "name": "stderr",
          "output_type": "stream",
          "text": [
            "/usr/local/lib/python3.10/dist-packages/torchvision/models/_utils.py:208: UserWarning: The parameter 'pretrained' is deprecated since 0.13 and may be removed in the future, please use 'weights' instead.\n",
            "  warnings.warn(\n",
            "/usr/local/lib/python3.10/dist-packages/torchvision/models/_utils.py:223: UserWarning: Arguments other than a weight enum or `None` for 'weights' are deprecated since 0.13 and may be removed in the future. The current behavior is equivalent to passing `weights=ResNet18_Weights.IMAGENET1K_V1`. You can also use `weights=ResNet18_Weights.DEFAULT` to get the most up-to-date weights.\n",
            "  warnings.warn(msg)\n"
          ]
        },
        {
          "name": "stdout",
          "output_type": "stream",
          "text": [
            "Clean Training MNIST dataset...\n",
            "Start Training ...\n"
          ]
        },
        {
          "name": "stderr",
          "output_type": "stream",
          "text": [
            "Epoch 1/10: 469it [00:18, 25.56it/s]"
          ]
        },
        {
          "name": "stdout",
          "output_type": "stream",
          "text": [
            "Train Epoch 1:: Accuracy: 44692/60000 (74%)\n"
          ]
        },
        {
          "name": "stderr",
          "output_type": "stream",
          "text": [
            "\n",
            "Epoch 2/10: 469it [00:19, 24.50it/s]"
          ]
        },
        {
          "name": "stdout",
          "output_type": "stream",
          "text": [
            "Train Epoch 2:: Accuracy: 55712/60000 (93%)\n"
          ]
        },
        {
          "name": "stderr",
          "output_type": "stream",
          "text": [
            "\n",
            "Epoch 3/10: 469it [00:20, 23.17it/s]"
          ]
        },
        {
          "name": "stdout",
          "output_type": "stream",
          "text": [
            "Train Epoch 3:: Accuracy: 57112/60000 (95%)\n"
          ]
        },
        {
          "name": "stderr",
          "output_type": "stream",
          "text": [
            "\n",
            "Epoch 4/10: 469it [00:19, 24.44it/s]"
          ]
        },
        {
          "name": "stdout",
          "output_type": "stream",
          "text": [
            "Train Epoch 4:: Accuracy: 57737/60000 (96%)\n"
          ]
        },
        {
          "name": "stderr",
          "output_type": "stream",
          "text": [
            "\n",
            "Epoch 5/10: 469it [00:19, 24.05it/s]"
          ]
        },
        {
          "name": "stdout",
          "output_type": "stream",
          "text": [
            "Train Epoch 5:: Accuracy: 58156/60000 (97%)\n"
          ]
        },
        {
          "name": "stderr",
          "output_type": "stream",
          "text": [
            "\n",
            "Epoch 6/10: 469it [00:19, 24.29it/s]"
          ]
        },
        {
          "name": "stdout",
          "output_type": "stream",
          "text": [
            "Train Epoch 6:: Accuracy: 58395/60000 (97%)\n"
          ]
        },
        {
          "name": "stderr",
          "output_type": "stream",
          "text": [
            "\n",
            "Epoch 7/10: 469it [00:18, 25.31it/s]"
          ]
        },
        {
          "name": "stdout",
          "output_type": "stream",
          "text": [
            "Train Epoch 7:: Accuracy: 58586/60000 (98%)\n"
          ]
        },
        {
          "name": "stderr",
          "output_type": "stream",
          "text": [
            "\n",
            "Epoch 8/10: 469it [00:20, 22.85it/s]"
          ]
        },
        {
          "name": "stdout",
          "output_type": "stream",
          "text": [
            "Train Epoch 8:: Accuracy: 58807/60000 (98%)\n"
          ]
        },
        {
          "name": "stderr",
          "output_type": "stream",
          "text": [
            "\n",
            "Epoch 9/10: 469it [00:19, 23.68it/s]"
          ]
        },
        {
          "name": "stdout",
          "output_type": "stream",
          "text": [
            "Train Epoch 9:: Accuracy: 58971/60000 (98%)\n"
          ]
        },
        {
          "name": "stderr",
          "output_type": "stream",
          "text": [
            "\n",
            "Epoch 10/10: 469it [00:19, 23.98it/s]\n"
          ]
        },
        {
          "name": "stdout",
          "output_type": "stream",
          "text": [
            "Train Epoch 10:: Accuracy: 59089/60000 (98%)\n",
            "Finished Training\n",
            "Training time for MNIST: 195.06 seconds\n",
            "\n",
            "Evaluating clean test accuracy for MNIST...\n",
            "Start Testing ...\n"
          ]
        },
        {
          "name": "stderr",
          "output_type": "stream",
          "text": [
            "Epoch 1/10: 79it [00:00, 79.15it/s]/s]\n",
            " 10%|█         | 1/10 [00:01<00:09,  1.07s/it]"
          ]
        },
        {
          "name": "stdout",
          "output_type": "stream",
          "text": [
            "Test Epoch 1:: Accuracy: 9677/10000 (97%)\n"
          ]
        },
        {
          "name": "stderr",
          "output_type": "stream",
          "text": [
            "Epoch 2/10: 79it [00:00, 89.71it/s]\n",
            " 20%|██        | 2/10 [00:02<00:07,  1.01it/s]"
          ]
        },
        {
          "name": "stdout",
          "output_type": "stream",
          "text": [
            "Test Epoch 2:: Accuracy: 9677/10000 (97%)\n"
          ]
        },
        {
          "name": "stderr",
          "output_type": "stream",
          "text": [
            "Epoch 3/10: 79it [00:00, 91.01it/s]\n",
            " 30%|███       | 3/10 [00:02<00:06,  1.04it/s]"
          ]
        },
        {
          "name": "stdout",
          "output_type": "stream",
          "text": [
            "Test Epoch 3:: Accuracy: 9677/10000 (97%)\n"
          ]
        },
        {
          "name": "stderr",
          "output_type": "stream",
          "text": [
            "Epoch 4/10: 79it [00:00, 89.40it/s]\n",
            " 40%|████      | 4/10 [00:03<00:05,  1.04it/s]"
          ]
        },
        {
          "name": "stdout",
          "output_type": "stream",
          "text": [
            "Test Epoch 4:: Accuracy: 9677/10000 (97%)\n"
          ]
        },
        {
          "name": "stderr",
          "output_type": "stream",
          "text": [
            "Epoch 5/10: 79it [00:00, 85.99it/s]\n",
            " 50%|█████     | 5/10 [00:04<00:04,  1.04it/s]"
          ]
        },
        {
          "name": "stdout",
          "output_type": "stream",
          "text": [
            "Test Epoch 5:: Accuracy: 9677/10000 (97%)\n"
          ]
        },
        {
          "name": "stderr",
          "output_type": "stream",
          "text": [
            "Epoch 6/10: 79it [00:00, 87.17it/s]\n",
            " 60%|██████    | 6/10 [00:05<00:03,  1.03it/s]"
          ]
        },
        {
          "name": "stdout",
          "output_type": "stream",
          "text": [
            "Test Epoch 6:: Accuracy: 9677/10000 (97%)\n"
          ]
        },
        {
          "name": "stderr",
          "output_type": "stream",
          "text": [
            "Epoch 7/10: 79it [00:00, 88.45it/s]\n",
            " 70%|███████   | 7/10 [00:06<00:02,  1.03it/s]"
          ]
        },
        {
          "name": "stdout",
          "output_type": "stream",
          "text": [
            "Test Epoch 7:: Accuracy: 9677/10000 (97%)\n"
          ]
        },
        {
          "name": "stderr",
          "output_type": "stream",
          "text": [
            "Epoch 8/10: 79it [00:00, 92.39it/s]\n",
            " 80%|████████  | 8/10 [00:07<00:01,  1.05it/s]"
          ]
        },
        {
          "name": "stdout",
          "output_type": "stream",
          "text": [
            "Test Epoch 8:: Accuracy: 9677/10000 (97%)\n"
          ]
        },
        {
          "name": "stderr",
          "output_type": "stream",
          "text": [
            "Epoch 9/10: 79it [00:00, 90.27it/s]\n",
            " 90%|█████████ | 9/10 [00:08<00:00,  1.05it/s]"
          ]
        },
        {
          "name": "stdout",
          "output_type": "stream",
          "text": [
            "Test Epoch 9:: Accuracy: 9677/10000 (97%)\n"
          ]
        },
        {
          "name": "stderr",
          "output_type": "stream",
          "text": [
            "Epoch 10/10: 79it [00:00, 83.02it/s]\n",
            "100%|██████████| 10/10 [00:09<00:00,  1.03it/s]\n"
          ]
        },
        {
          "name": "stdout",
          "output_type": "stream",
          "text": [
            "Test Epoch 10:: Accuracy: 9677/10000 (97%)\n",
            "Finished Testing\n",
            "Testing time for MNIST: 9.74 seconds\n",
            "\n",
            "Evaluating adversarial accuracy for MNIST with FGSM...\n",
            "Start Adversarial Examples Testing ...\n"
          ]
        },
        {
          "name": "stderr",
          "output_type": "stream",
          "text": [
            "ε=0.03137254901960784: 79it [00:01, 74.22it/s]"
          ]
        },
        {
          "name": "stdout",
          "output_type": "stream",
          "text": [
            "Epoch 1: Epsilon: 0.03137254901960784\tAccuracy: 0/10000 (0%)\n"
          ]
        },
        {
          "name": "stderr",
          "output_type": "stream",
          "text": [
            "\n",
            "ε=0.03137254901960784: 79it [00:00, 79.92it/s]"
          ]
        },
        {
          "name": "stdout",
          "output_type": "stream",
          "text": [
            "Epoch 2: Epsilon: 0.03137254901960784\tAccuracy: 0/10000 (0%)\n"
          ]
        },
        {
          "name": "stderr",
          "output_type": "stream",
          "text": [
            "\n",
            "ε=0.03137254901960784: 79it [00:01, 68.13it/s]"
          ]
        },
        {
          "name": "stdout",
          "output_type": "stream",
          "text": [
            "Epoch 3: Epsilon: 0.03137254901960784\tAccuracy: 0/10000 (0%)\n"
          ]
        },
        {
          "name": "stderr",
          "output_type": "stream",
          "text": [
            "\n",
            "ε=0.03137254901960784: 79it [00:01, 69.43it/s]"
          ]
        },
        {
          "name": "stdout",
          "output_type": "stream",
          "text": [
            "Epoch 4: Epsilon: 0.03137254901960784\tAccuracy: 0/10000 (0%)\n"
          ]
        },
        {
          "name": "stderr",
          "output_type": "stream",
          "text": [
            "\n",
            "ε=0.03137254901960784: 79it [00:01, 72.81it/s]"
          ]
        },
        {
          "name": "stdout",
          "output_type": "stream",
          "text": [
            "Epoch 5: Epsilon: 0.03137254901960784\tAccuracy: 0/10000 (0%)\n"
          ]
        },
        {
          "name": "stderr",
          "output_type": "stream",
          "text": [
            "\n",
            "ε=0.03137254901960784: 79it [00:01, 70.84it/s]"
          ]
        },
        {
          "name": "stdout",
          "output_type": "stream",
          "text": [
            "Epoch 6: Epsilon: 0.03137254901960784\tAccuracy: 0/10000 (0%)\n"
          ]
        },
        {
          "name": "stderr",
          "output_type": "stream",
          "text": [
            "\n",
            "ε=0.03137254901960784: 79it [00:01, 70.42it/s]"
          ]
        },
        {
          "name": "stdout",
          "output_type": "stream",
          "text": [
            "Epoch 7: Epsilon: 0.03137254901960784\tAccuracy: 0/10000 (0%)\n"
          ]
        },
        {
          "name": "stderr",
          "output_type": "stream",
          "text": [
            "\n",
            "ε=0.03137254901960784: 79it [00:01, 69.10it/s]"
          ]
        },
        {
          "name": "stdout",
          "output_type": "stream",
          "text": [
            "Epoch 8: Epsilon: 0.03137254901960784\tAccuracy: 0/10000 (0%)\n"
          ]
        },
        {
          "name": "stderr",
          "output_type": "stream",
          "text": [
            "\n",
            "ε=0.03137254901960784: 79it [00:01, 73.86it/s]"
          ]
        },
        {
          "name": "stdout",
          "output_type": "stream",
          "text": [
            "Epoch 9: Epsilon: 0.03137254901960784\tAccuracy: 0/10000 (0%)\n"
          ]
        },
        {
          "name": "stderr",
          "output_type": "stream",
          "text": [
            "\n",
            "ε=0.03137254901960784: 79it [00:01, 73.11it/s]\n"
          ]
        },
        {
          "name": "stdout",
          "output_type": "stream",
          "text": [
            "Epoch 10: Epsilon: 0.03137254901960784\tAccuracy: 0/10000 (0%)\n",
            "Finished Adversarial Examples Testing\n",
            "\n",
            "Adversarial testing time for MNIST: 11.62 seconds\n",
            "\n",
            "Evaluating test accuracy for MNIST with Feature Squeezing...\n",
            "Start Testing ...\n"
          ]
        },
        {
          "name": "stderr",
          "output_type": "stream",
          "text": [
            "Epoch 1/10: 79it [00:00, 88.10it/s]/s]\n",
            " 10%|█         | 1/10 [00:00<00:08,  1.04it/s]"
          ]
        },
        {
          "name": "stdout",
          "output_type": "stream",
          "text": [
            "Test Epoch 1:: Accuracy: 9670/10000 (97%)\n"
          ]
        },
        {
          "name": "stderr",
          "output_type": "stream",
          "text": [
            "Epoch 2/10: 79it [00:00, 87.75it/s]\n",
            " 20%|██        | 2/10 [00:01<00:07,  1.04it/s]"
          ]
        },
        {
          "name": "stdout",
          "output_type": "stream",
          "text": [
            "Test Epoch 2:: Accuracy: 9670/10000 (97%)\n"
          ]
        },
        {
          "name": "stderr",
          "output_type": "stream",
          "text": [
            "Epoch 3/10: 79it [00:00, 87.52it/s]\n",
            " 30%|███       | 3/10 [00:02<00:06,  1.03it/s]"
          ]
        },
        {
          "name": "stdout",
          "output_type": "stream",
          "text": [
            "Test Epoch 3:: Accuracy: 9670/10000 (97%)\n"
          ]
        },
        {
          "name": "stderr",
          "output_type": "stream",
          "text": [
            "Epoch 4/10: 79it [00:00, 87.07it/s]\n",
            " 40%|████      | 4/10 [00:03<00:05,  1.03it/s]"
          ]
        },
        {
          "name": "stdout",
          "output_type": "stream",
          "text": [
            "Test Epoch 4:: Accuracy: 9670/10000 (97%)\n"
          ]
        },
        {
          "name": "stderr",
          "output_type": "stream",
          "text": [
            "Epoch 5/10: 79it [00:00, 89.27it/s]\n",
            " 50%|█████     | 5/10 [00:04<00:04,  1.04it/s]"
          ]
        },
        {
          "name": "stdout",
          "output_type": "stream",
          "text": [
            "Test Epoch 5:: Accuracy: 9670/10000 (97%)\n"
          ]
        },
        {
          "name": "stderr",
          "output_type": "stream",
          "text": [
            "Epoch 6/10: 79it [00:00, 88.85it/s]\n",
            " 60%|██████    | 6/10 [00:05<00:03,  1.04it/s]"
          ]
        },
        {
          "name": "stdout",
          "output_type": "stream",
          "text": [
            "Test Epoch 6:: Accuracy: 9670/10000 (97%)\n"
          ]
        },
        {
          "name": "stderr",
          "output_type": "stream",
          "text": [
            "Epoch 7/10: 79it [00:00, 88.50it/s]\n",
            " 70%|███████   | 7/10 [00:06<00:02,  1.04it/s]"
          ]
        },
        {
          "name": "stdout",
          "output_type": "stream",
          "text": [
            "Test Epoch 7:: Accuracy: 9670/10000 (97%)\n"
          ]
        },
        {
          "name": "stderr",
          "output_type": "stream",
          "text": [
            "Epoch 8/10: 79it [00:01, 75.49it/s]\n",
            " 80%|████████  | 8/10 [00:07<00:02,  1.01s/it]"
          ]
        },
        {
          "name": "stdout",
          "output_type": "stream",
          "text": [
            "Test Epoch 8:: Accuracy: 9670/10000 (97%)\n"
          ]
        },
        {
          "name": "stderr",
          "output_type": "stream",
          "text": [
            "Epoch 9/10: 79it [00:00, 88.70it/s]\n",
            " 90%|█████████ | 9/10 [00:08<00:00,  1.01it/s]"
          ]
        },
        {
          "name": "stdout",
          "output_type": "stream",
          "text": [
            "Test Epoch 9:: Accuracy: 9670/10000 (97%)\n"
          ]
        },
        {
          "name": "stderr",
          "output_type": "stream",
          "text": [
            "Epoch 10/10: 79it [00:00, 90.17it/s]\n",
            "100%|██████████| 10/10 [00:09<00:00,  1.03it/s]\n"
          ]
        },
        {
          "name": "stdout",
          "output_type": "stream",
          "text": [
            "Test Epoch 10:: Accuracy: 9670/10000 (97%)\n",
            "Finished Testing\n",
            "Total Testing Time with Feature Squeezing in MNIST: 9.751039505004883 seconds\n",
            "\n",
            "Evaluating test accuracy for MNIST with Gaussian Blur...\n",
            "Start Testing ...\n"
          ]
        },
        {
          "name": "stderr",
          "output_type": "stream",
          "text": [
            "Epoch 1/10: 79it [00:00, 88.64it/s]/s]\n",
            " 10%|█         | 1/10 [00:00<00:08,  1.05it/s]"
          ]
        },
        {
          "name": "stdout",
          "output_type": "stream",
          "text": [
            "Test Epoch 1:: Accuracy: 9705/10000 (97%)\n"
          ]
        },
        {
          "name": "stderr",
          "output_type": "stream",
          "text": [
            "Epoch 2/10: 79it [00:00, 86.63it/s]\n",
            " 20%|██        | 2/10 [00:01<00:07,  1.04it/s]"
          ]
        },
        {
          "name": "stdout",
          "output_type": "stream",
          "text": [
            "Test Epoch 2:: Accuracy: 9705/10000 (97%)\n"
          ]
        },
        {
          "name": "stderr",
          "output_type": "stream",
          "text": [
            "Epoch 3/10: 79it [00:00, 88.77it/s]\n",
            " 30%|███       | 3/10 [00:02<00:06,  1.04it/s]"
          ]
        },
        {
          "name": "stdout",
          "output_type": "stream",
          "text": [
            "Test Epoch 3:: Accuracy: 9705/10000 (97%)\n"
          ]
        },
        {
          "name": "stderr",
          "output_type": "stream",
          "text": [
            "Epoch 4/10: 79it [00:00, 86.07it/s]\n",
            " 40%|████      | 4/10 [00:03<00:05,  1.03it/s]"
          ]
        },
        {
          "name": "stdout",
          "output_type": "stream",
          "text": [
            "Test Epoch 4:: Accuracy: 9705/10000 (97%)\n"
          ]
        },
        {
          "name": "stderr",
          "output_type": "stream",
          "text": [
            "Epoch 5/10: 79it [00:00, 86.55it/s]\n",
            " 50%|█████     | 5/10 [00:04<00:04,  1.03it/s]"
          ]
        },
        {
          "name": "stdout",
          "output_type": "stream",
          "text": [
            "Test Epoch 5:: Accuracy: 9705/10000 (97%)\n"
          ]
        },
        {
          "name": "stderr",
          "output_type": "stream",
          "text": [
            "Epoch 6/10: 79it [00:00, 86.55it/s]\n",
            " 60%|██████    | 6/10 [00:05<00:03,  1.02it/s]"
          ]
        },
        {
          "name": "stdout",
          "output_type": "stream",
          "text": [
            "Test Epoch 6:: Accuracy: 9705/10000 (97%)\n"
          ]
        },
        {
          "name": "stderr",
          "output_type": "stream",
          "text": [
            "Epoch 7/10: 79it [00:00, 91.01it/s]\n",
            " 70%|███████   | 7/10 [00:06<00:02,  1.04it/s]"
          ]
        },
        {
          "name": "stdout",
          "output_type": "stream",
          "text": [
            "Test Epoch 7:: Accuracy: 9705/10000 (97%)\n"
          ]
        },
        {
          "name": "stderr",
          "output_type": "stream",
          "text": [
            "Epoch 8/10: 79it [00:00, 86.14it/s]\n",
            " 80%|████████  | 8/10 [00:07<00:01,  1.03it/s]"
          ]
        },
        {
          "name": "stdout",
          "output_type": "stream",
          "text": [
            "Test Epoch 8:: Accuracy: 9705/10000 (97%)\n"
          ]
        },
        {
          "name": "stderr",
          "output_type": "stream",
          "text": [
            "Epoch 9/10: 79it [00:00, 88.86it/s]\n",
            " 90%|█████████ | 9/10 [00:08<00:00,  1.04it/s]"
          ]
        },
        {
          "name": "stdout",
          "output_type": "stream",
          "text": [
            "Test Epoch 9:: Accuracy: 9705/10000 (97%)\n"
          ]
        },
        {
          "name": "stderr",
          "output_type": "stream",
          "text": [
            "Epoch 10/10: 79it [00:00, 88.05it/s]\n",
            "100%|██████████| 10/10 [00:09<00:00,  1.04it/s]"
          ]
        },
        {
          "name": "stdout",
          "output_type": "stream",
          "text": [
            "Test Epoch 10:: Accuracy: 9705/10000 (97%)\n",
            "Finished Testing\n",
            "Total Testing Time with Gaussian Blur in MNIST: 9.662691354751587 seconds\n",
            "\n"
          ]
        },
        {
          "name": "stderr",
          "output_type": "stream",
          "text": [
            "\n"
          ]
        }
      ],
      "source": [
        "print(\"==========================================\")\n",
        "print(f\"Processing {dataset_name} dataset...\")\n",
        "print(\"==========================================\")\n",
        "\n",
        "# Create two models: Load pretrained ResNet and move to channels_last + device\n",
        "model_clean = models.resnet18(pretrained=True).to(device)\n",
        "model_clean.conv1 = nn.Conv2d(1, 64, kernel_size=7, stride=2, padding=3, bias=False).to(device)\n",
        "model_adv = models.resnet18(pretrained=True).to(device)\n",
        "model_adv.conv1 = nn.Conv2d(1, 64, kernel_size=7, stride=2, padding=3, bias=False).to(device)\n",
        "\n",
        "# Use SGD with momentum and weight decay (common for robust models)\n",
        "optimizer_clean = optim.SGD(model_clean.parameters(), lr=learning_rate)\n",
        "optimizer_adv = optim.SGD(model_adv.parameters(), lr=learning_rate)\n",
        "\n",
        "torch.cuda.empty_cache()\n",
        "\n",
        "print(f\"Clean Training {dataset_name} dataset...\")\n",
        "start_time = time.time()\n",
        "train_acc = train(model_clean, device, optimizer_clean, train_loader, num_epochs, epsilon=0, adversarial=False)\n",
        "train_acc_results[model_list] = train_acc\n",
        "end_time = time.time()\n",
        "print(f\"Training time for {dataset_name}: {end_time - start_time:.2f} seconds\\n\")\n",
        "torch.cuda.empty_cache()\n",
        "\n",
        "start_time = time.time()\n",
        "print(f\"Evaluating clean test accuracy for {dataset_name}...\")\n",
        "test_acc = test(model_clean, device, test_loader, num_epochs)\n",
        "test_acc_results[model_list] = test_acc\n",
        "end_time = time.time()\n",
        "print(f\"Testing time for {dataset_name}: {end_time - start_time:.2f} seconds\\n\")\n",
        "torch.cuda.empty_cache()\n",
        "\n",
        "# Evaluate adversarial accuracy with FGSM\n",
        "start_time = time.time()\n",
        "print(f\"Evaluating adversarial accuracy for {dataset_name} with FGSM...\")\n",
        "adv_acc = adv_test(model_adv, device, test_loader, epsilon, num_epochs)\n",
        "adv_acc_results[model_list] = adv_acc\n",
        "end_time = time.time()\n",
        "print(f\"Adversarial testing time for {dataset_name}: {end_time - start_time:.2f} seconds\\n\")\n",
        "torch.cuda.empty_cache()\n",
        "\n",
        "# Apply feature_squeeze defense on adversarial examples:\n",
        "start_time = time.time()  # Start timer\n",
        "print(f\"Evaluating test accuracy for {dataset_name} with Feature Squeezing...\")\n",
        "feature_squeeze_test_acc = test(model_clean, device, test_loader, num_epochs, defense_fn=feature_squeeze, defense_params={'bit_depth': 2})\n",
        "feature_squeeze_test_acc_results[model_list] = feature_squeeze_test_acc\n",
        "end_time = time.time()  # End timer\n",
        "testing_time = end_time - start_time\n",
        "print(f\"Total Testing Time with Feature Squeezing in {dataset_name}: {testing_time} seconds\\n\")\n",
        "torch.cuda.empty_cache()\n",
        "\n",
        "start_time = time.time()  # Start timer\n",
        "print(f\"Evaluating test accuracy for {dataset_name} with Gaussian Blur...\")\n",
        "gaussian_blur_test_acc = test(model_clean, device, test_loader, num_epochs, defense_fn=gaussian_blur, defense_params={'kernel_size': 3, 'sigma': 1.0})\n",
        "gaussian_blur_test_acc_results[model_list] = gaussian_blur_test_acc\n",
        "end_time = time.time()  # End timer\n",
        "testing_time = end_time - start_time\n",
        "print(f\"Total Testing Time with Gaussian Blur in {dataset_name}: {testing_time} seconds\\n\")\n",
        "torch.cuda.empty_cache()\n"
      ]
    },
    {
      "cell_type": "code",
      "execution_count": 11,
      "metadata": {
        "colab": {
          "base_uri": "https://localhost:8080/"
        },
        "id": "gdQLxE9njLr1",
        "outputId": "3246254f-ef8b-4bc5-c4d9-6196ff3004d1"
      },
      "outputs": [
        {
          "name": "stdout",
          "output_type": "stream",
          "text": [
            "Average training accuracy in MNIST of ResNet50: 94.54283333333333%\n",
            "Average test accuracy in MNIST of ResNet50: 96.77%\n",
            "Average adversarial accuracy in FGSM attack in MNIST of ResNet50: 0.0%\n",
            "Average feature squeeze accuracy in MNIST of ResNet50: 96.70000000000002%\n",
            "Average gaussian blur accuracy in MNIST of ResNet50: 97.04999999999998%\n"
          ]
        }
      ],
      "source": [
        "avg_train_accuracy = np.mean(train_acc_results[model_list])\n",
        "avg_test_accuracy = np.mean(test_acc_results[model_list])\n",
        "avg_adv_accuracy = np.mean(adv_acc_results[model_list])\n",
        "avg_fs_accuracy = np.mean(feature_squeeze_test_acc_results[model_list])\n",
        "avg_gb_accuracy = np.mean(gaussian_blur_test_acc_results[model_list])\n",
        "\n",
        "print(f\"Average training accuracy in {dataset_name} of {model_list}: {avg_train_accuracy}%\")\n",
        "print(f\"Average test accuracy in {dataset_name} of {model_list}: {avg_test_accuracy}%\")\n",
        "print(f\"Average adversarial accuracy in FGSM attack in {dataset_name} of {model_list}: {avg_adv_accuracy}%\")\n",
        "print(f\"Average feature squeeze accuracy in {dataset_name} of {model_list}: {avg_fs_accuracy}%\")\n",
        "print(f\"Average gaussian blur accuracy in {dataset_name} of {model_list}: {avg_gb_accuracy}%\")"
      ]
    },
    {
      "cell_type": "code",
      "execution_count": 12,
      "metadata": {
        "colab": {
          "base_uri": "https://localhost:8080/",
          "height": 332
        },
        "id": "TF7uPUZ-JpTa",
        "outputId": "3e3768c4-cc8e-49cc-aef5-9bae90bb989e"
      },
      "outputs": [],
      "source": [
        "# Combine the data into series\n",
        "labels = ['Train Clean', 'Test Clean']\n",
        "model_list = ['ResNet50']\n",
        "data_series = [\n",
        "    [train_acc_results[m] for m in model_list],\n",
        "    [test_acc_results[m] for m in model_list],\n",
        "]"
      ]
    },
    {
      "cell_type": "code",
      "execution_count": 13,
      "metadata": {},
      "outputs": [
        {
          "data": {
            "image/png": "[encoded data removed]",
            "text/plain": [
              "<Figure size 800x600 with 1 Axes>"
            ]
          },
          "metadata": {},
          "output_type": "display_data"
        }
      ],
      "source": [
        "# Plot all types of accuracies for each dataset in subplots\n",
        "fig, axs = plt.subplots(len(model_list), 1, figsize=(8, 6), sharex=True)\n",
        "\n",
        "# num_epochs is an integer, but we need a range of epoch numbers for plotting\n",
        "epoch_range = range(1, num_epochs + 1)  # Generate a list of epoch numbers [1, 2, ..., num_epochs]\n",
        "\n",
        "# Guarantee axs is a 1D array\n",
        "if not isinstance(axs, np.ndarray):\n",
        "    axs = np.array([axs])\n",
        "\n",
        "for ax, model_name in zip(axs, model_list):\n",
        "    ax.plot(epoch_range, train_acc_results[model_name],   label='Train', marker='o')\n",
        "    ax.plot(epoch_range, test_acc_results[model_name],    label='Test',  marker='s')\n",
        "\n",
        "    ax.set_title(f\"{model_name} Accuracy Over Epochs in {dataset_name}\")\n",
        "    ax.set_xlabel(\"Epoch\")\n",
        "    ax.set_ylabel(\"Accuracy (%)\")\n",
        "    ax.set_ylim(0, 100)\n",
        "    ax.grid(True)\n",
        "    ax.legend()\n",
        "\n",
        "plt.tight_layout()\n",
        "plt.show()"
      ]
    },
    {
      "cell_type": "code",
      "execution_count": 14,
      "metadata": {},
      "outputs": [],
      "source": [
        "# Combine the data into series\n",
        "labels = ['FGSM Attack']\n",
        "model_list = ['ResNet50']\n",
        "data_series = [\n",
        "    [adv_acc_results[m] for m in model_list],\n",
        "]"
      ]
    },
    {
      "cell_type": "code",
      "execution_count": 15,
      "metadata": {},
      "outputs": [
        {
          "data": {
            "image/png": "[encoded data removed]",
            "text/plain": [
              "<Figure size 800x600 with 1 Axes>"
            ]
          },
          "metadata": {},
          "output_type": "display_data"
        }
      ],
      "source": [
        "# Plot all types of accuracies for each dataset in subplots\n",
        "fig, axs = plt.subplots(len(model_list), 1, figsize=(8, 6), sharex=True)\n",
        "\n",
        "# num_epochs is an integer, but we need a range of epoch numbers for plotting\n",
        "epoch_range = range(1, num_epochs + 1)  # Generate a list of epoch numbers [1, 2, ..., num_epochs]\n",
        "\n",
        "# Guarantee axs is a 1D array\n",
        "if not isinstance(axs, np.ndarray):\n",
        "    axs = np.array([axs])\n",
        "\n",
        "for ax, model_name in zip(axs, model_list):\n",
        "    ax.plot(epoch_range, adv_acc_results[model_name],     label='FGSM Attack',  marker='^')\n",
        "\n",
        "    ax.set_title(f\"{model_name} Accuracy Over Epochs in {dataset_name}\")\n",
        "    ax.set_xlabel(\"Epoch\")\n",
        "    ax.set_ylabel(\"Accuracy (%)\")\n",
        "    ax.set_ylim(0, 100)\n",
        "    ax.grid(True)\n",
        "    ax.legend()\n",
        "\n",
        "plt.tight_layout()\n",
        "plt.show()"
      ]
    },
    {
      "cell_type": "code",
      "execution_count": 16,
      "metadata": {},
      "outputs": [],
      "source": [
        "# Combine the data into series\n",
        "labels = ['Feature Squeeze', 'Gaussian Blur']\n",
        "model_list = ['ResNet50']\n",
        "data_series = [\n",
        "    [feature_squeeze_test_acc_results[m] for m in model_list],\n",
        "    [gaussian_blur_test_acc_results[m] for m in model_list]\n",
        "]"
      ]
    },
    {
      "cell_type": "code",
      "execution_count": 17,
      "metadata": {
        "id": "exhNK08Dd5rp"
      },
      "outputs": [
        {
          "data": {
            "image/png": "[encoded data removed]",
            "text/plain": [
              "<Figure size 800x600 with 1 Axes>"
            ]
          },
          "metadata": {},
          "output_type": "display_data"
        }
      ],
      "source": [
        "# Plot all types of accuracies for each dataset in subplots\n",
        "fig, axs = plt.subplots(len(model_list), 1, figsize=(8, 6), sharex=True)\n",
        "\n",
        "# num_epochs is an integer, but we need a range of epoch numbers for plotting\n",
        "epoch_range = range(1, num_epochs + 1)  # Generate a list of epoch numbers [1, 2, ..., num_epochs]\n",
        "\n",
        "# Guarantee axs is a 1D array\n",
        "if not isinstance(axs, np.ndarray):\n",
        "    axs = np.array([axs])\n",
        "\n",
        "for ax, model_name in zip(axs, model_list):\n",
        "    ax.plot(epoch_range, feature_squeeze_test_acc_results[model_name],\n",
        "            label='Feature Squeeze', marker='d')\n",
        "    ax.plot(epoch_range, gaussian_blur_test_acc_results[model_name],\n",
        "            label='Gaussian Blur', marker='x')\n",
        "\n",
        "    ax.set_title(f\"{model_name} Accuracy Over Epochs in {dataset_name}\")\n",
        "    ax.set_xlabel(\"Epoch\")\n",
        "    ax.set_ylabel(\"Accuracy (%)\")\n",
        "    ax.set_ylim(0, 100)\n",
        "    ax.grid(True)\n",
        "    ax.legend()\n",
        "\n",
        "plt.tight_layout()\n",
        "plt.show()"
      ]
    }
  ],
  "metadata": {
    "accelerator": "GPU",
    "colab": {
      "gpuType": "L4",
      "provenance": []
    },
    "kernelspec": {
      "display_name": "Python 3",
      "language": "python",
      "name": "python3"
    },
    "language_info": {
      "codemirror_mode": {
        "name": "ipython",
        "version": 3
      },
      "file_extension": ".py",
      "mimetype": "text/x-python",
      "name": "python",
      "nbconvert_exporter": "python",
      "pygments_lexer": "ipython3",
      "version": "3.10.12"
    }
  },
  "nbformat": 4,
  "nbformat_minor": 0
}
